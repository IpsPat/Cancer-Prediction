{
 "cells": [
  {
   "cell_type": "markdown",
   "metadata": {},
   "source": [
    "# CANCER"
   ]
  },
  {
   "cell_type": "code",
   "execution_count": 21,
   "metadata": {},
   "outputs": [],
   "source": [
    "import numpy as np\n",
    "import pandas as pd\n",
    "import random as rn\n",
    "import math\n",
    "from sklearn.model_selection import train_test_split\n",
    "from sklearn.cluster import KMeans\n",
    "from sklearn.cluster import AgglomerativeClustering\n",
    "from sklearn.naive_bayes import GaussianNB\n",
    "from sklearn.neighbors import KNeighborsClassifier\n",
    "from sklearn.neural_network import MLPClassifier\n",
    "from sklearn.metrics import f1_score\n",
    "from sklearn.preprocessing import LabelEncoder"
   ]
  },
  {
   "cell_type": "code",
   "execution_count": 22,
   "metadata": {},
   "outputs": [],
   "source": [
    "df = pd.read_csv(\"C:\\\\Users\\\\IPSITA\\\\Downloads\\\\cancer.csv\")"
   ]
  },
  {
   "cell_type": "code",
   "execution_count": 23,
   "metadata": {},
   "outputs": [
    {
     "data": {
      "text/html": [
       "<div>\n",
       "<style scoped>\n",
       "    .dataframe tbody tr th:only-of-type {\n",
       "        vertical-align: middle;\n",
       "    }\n",
       "\n",
       "    .dataframe tbody tr th {\n",
       "        vertical-align: top;\n",
       "    }\n",
       "\n",
       "    .dataframe thead th {\n",
       "        text-align: right;\n",
       "    }\n",
       "</style>\n",
       "<table border=\"1\" class=\"dataframe\">\n",
       "  <thead>\n",
       "    <tr style=\"text-align: right;\">\n",
       "      <th></th>\n",
       "      <th>id</th>\n",
       "      <th>diagnosis</th>\n",
       "      <th>radius_mean</th>\n",
       "      <th>texture_mean</th>\n",
       "      <th>perimeter_mean</th>\n",
       "      <th>area_mean</th>\n",
       "      <th>smoothness_mean</th>\n",
       "      <th>compactness_mean</th>\n",
       "      <th>concavity_mean</th>\n",
       "      <th>concave points_mean</th>\n",
       "      <th>...</th>\n",
       "      <th>radius_worst</th>\n",
       "      <th>texture_worst</th>\n",
       "      <th>perimeter_worst</th>\n",
       "      <th>area_worst</th>\n",
       "      <th>smoothness_worst</th>\n",
       "      <th>compactness_worst</th>\n",
       "      <th>concavity_worst</th>\n",
       "      <th>concave points_worst</th>\n",
       "      <th>symmetry_worst</th>\n",
       "      <th>fractal_dimension_worst</th>\n",
       "    </tr>\n",
       "  </thead>\n",
       "  <tbody>\n",
       "    <tr>\n",
       "      <th>0</th>\n",
       "      <td>842302</td>\n",
       "      <td>M</td>\n",
       "      <td>17.99</td>\n",
       "      <td>10.38</td>\n",
       "      <td>122.80</td>\n",
       "      <td>1001.0</td>\n",
       "      <td>0.11840</td>\n",
       "      <td>0.27760</td>\n",
       "      <td>0.3001</td>\n",
       "      <td>0.14710</td>\n",
       "      <td>...</td>\n",
       "      <td>25.38</td>\n",
       "      <td>17.33</td>\n",
       "      <td>184.60</td>\n",
       "      <td>2019.0</td>\n",
       "      <td>0.1622</td>\n",
       "      <td>0.6656</td>\n",
       "      <td>0.7119</td>\n",
       "      <td>0.2654</td>\n",
       "      <td>0.4601</td>\n",
       "      <td>0.11890</td>\n",
       "    </tr>\n",
       "    <tr>\n",
       "      <th>1</th>\n",
       "      <td>842517</td>\n",
       "      <td>M</td>\n",
       "      <td>20.57</td>\n",
       "      <td>17.77</td>\n",
       "      <td>132.90</td>\n",
       "      <td>1326.0</td>\n",
       "      <td>0.08474</td>\n",
       "      <td>0.07864</td>\n",
       "      <td>0.0869</td>\n",
       "      <td>0.07017</td>\n",
       "      <td>...</td>\n",
       "      <td>24.99</td>\n",
       "      <td>23.41</td>\n",
       "      <td>158.80</td>\n",
       "      <td>1956.0</td>\n",
       "      <td>0.1238</td>\n",
       "      <td>0.1866</td>\n",
       "      <td>0.2416</td>\n",
       "      <td>0.1860</td>\n",
       "      <td>0.2750</td>\n",
       "      <td>0.08902</td>\n",
       "    </tr>\n",
       "    <tr>\n",
       "      <th>2</th>\n",
       "      <td>84300903</td>\n",
       "      <td>M</td>\n",
       "      <td>19.69</td>\n",
       "      <td>21.25</td>\n",
       "      <td>130.00</td>\n",
       "      <td>1203.0</td>\n",
       "      <td>0.10960</td>\n",
       "      <td>0.15990</td>\n",
       "      <td>0.1974</td>\n",
       "      <td>0.12790</td>\n",
       "      <td>...</td>\n",
       "      <td>23.57</td>\n",
       "      <td>25.53</td>\n",
       "      <td>152.50</td>\n",
       "      <td>1709.0</td>\n",
       "      <td>0.1444</td>\n",
       "      <td>0.4245</td>\n",
       "      <td>0.4504</td>\n",
       "      <td>0.2430</td>\n",
       "      <td>0.3613</td>\n",
       "      <td>0.08758</td>\n",
       "    </tr>\n",
       "    <tr>\n",
       "      <th>3</th>\n",
       "      <td>84348301</td>\n",
       "      <td>M</td>\n",
       "      <td>11.42</td>\n",
       "      <td>20.38</td>\n",
       "      <td>77.58</td>\n",
       "      <td>386.1</td>\n",
       "      <td>0.14250</td>\n",
       "      <td>0.28390</td>\n",
       "      <td>0.2414</td>\n",
       "      <td>0.10520</td>\n",
       "      <td>...</td>\n",
       "      <td>14.91</td>\n",
       "      <td>26.50</td>\n",
       "      <td>98.87</td>\n",
       "      <td>567.7</td>\n",
       "      <td>0.2098</td>\n",
       "      <td>0.8663</td>\n",
       "      <td>0.6869</td>\n",
       "      <td>0.2575</td>\n",
       "      <td>0.6638</td>\n",
       "      <td>0.17300</td>\n",
       "    </tr>\n",
       "    <tr>\n",
       "      <th>4</th>\n",
       "      <td>84358402</td>\n",
       "      <td>M</td>\n",
       "      <td>20.29</td>\n",
       "      <td>14.34</td>\n",
       "      <td>135.10</td>\n",
       "      <td>1297.0</td>\n",
       "      <td>0.10030</td>\n",
       "      <td>0.13280</td>\n",
       "      <td>0.1980</td>\n",
       "      <td>0.10430</td>\n",
       "      <td>...</td>\n",
       "      <td>22.54</td>\n",
       "      <td>16.67</td>\n",
       "      <td>152.20</td>\n",
       "      <td>1575.0</td>\n",
       "      <td>0.1374</td>\n",
       "      <td>0.2050</td>\n",
       "      <td>0.4000</td>\n",
       "      <td>0.1625</td>\n",
       "      <td>0.2364</td>\n",
       "      <td>0.07678</td>\n",
       "    </tr>\n",
       "  </tbody>\n",
       "</table>\n",
       "<p>5 rows × 32 columns</p>\n",
       "</div>"
      ],
      "text/plain": [
       "         id diagnosis  radius_mean  texture_mean  perimeter_mean  area_mean  \\\n",
       "0    842302         M        17.99         10.38          122.80     1001.0   \n",
       "1    842517         M        20.57         17.77          132.90     1326.0   \n",
       "2  84300903         M        19.69         21.25          130.00     1203.0   \n",
       "3  84348301         M        11.42         20.38           77.58      386.1   \n",
       "4  84358402         M        20.29         14.34          135.10     1297.0   \n",
       "\n",
       "   smoothness_mean  compactness_mean  concavity_mean  concave points_mean  \\\n",
       "0          0.11840           0.27760          0.3001              0.14710   \n",
       "1          0.08474           0.07864          0.0869              0.07017   \n",
       "2          0.10960           0.15990          0.1974              0.12790   \n",
       "3          0.14250           0.28390          0.2414              0.10520   \n",
       "4          0.10030           0.13280          0.1980              0.10430   \n",
       "\n",
       "   ...  radius_worst  texture_worst  perimeter_worst  area_worst  \\\n",
       "0  ...         25.38          17.33           184.60      2019.0   \n",
       "1  ...         24.99          23.41           158.80      1956.0   \n",
       "2  ...         23.57          25.53           152.50      1709.0   \n",
       "3  ...         14.91          26.50            98.87       567.7   \n",
       "4  ...         22.54          16.67           152.20      1575.0   \n",
       "\n",
       "   smoothness_worst  compactness_worst  concavity_worst  concave points_worst  \\\n",
       "0            0.1622             0.6656           0.7119                0.2654   \n",
       "1            0.1238             0.1866           0.2416                0.1860   \n",
       "2            0.1444             0.4245           0.4504                0.2430   \n",
       "3            0.2098             0.8663           0.6869                0.2575   \n",
       "4            0.1374             0.2050           0.4000                0.1625   \n",
       "\n",
       "   symmetry_worst  fractal_dimension_worst  \n",
       "0          0.4601                  0.11890  \n",
       "1          0.2750                  0.08902  \n",
       "2          0.3613                  0.08758  \n",
       "3          0.6638                  0.17300  \n",
       "4          0.2364                  0.07678  \n",
       "\n",
       "[5 rows x 32 columns]"
      ]
     },
     "execution_count": 23,
     "metadata": {},
     "output_type": "execute_result"
    }
   ],
   "source": [
    "df = df.drop('Unnamed: 32', axis=1)\n",
    "df.head()"
   ]
  },
  {
   "cell_type": "code",
   "execution_count": 24,
   "metadata": {},
   "outputs": [],
   "source": [
    "y = df['diagnosis']\n",
    "X = df.drop(['id','diagnosis'], axis=1)"
   ]
  },
  {
   "cell_type": "code",
   "execution_count": 25,
   "metadata": {},
   "outputs": [],
   "source": [
    "le = LabelEncoder()\n",
    "y = pd.DataFrame(le.fit_transform(y))[0]"
   ]
  },
  {
   "cell_type": "code",
   "execution_count": 26,
   "metadata": {},
   "outputs": [],
   "source": [
    "X_train, X_test, y_train, y_test = train_test_split(X, y, test_size=0.2, random_state=1)"
   ]
  },
  {
   "cell_type": "code",
   "execution_count": 27,
   "metadata": {},
   "outputs": [],
   "source": [
    "# PCA\n",
    "from sklearn.preprocessing import StandardScaler \n",
    "sc = StandardScaler() \n",
    "X_trainp = sc.fit_transform(X_train) \n",
    "X_testp = sc.transform(X_test) \n",
    "from sklearn.decomposition import PCA \n",
    "pca = PCA(n_components = 7) \n",
    "X_trainp = pca.fit_transform(X_train) \n",
    "X_testp= pca.transform(X_test) "
   ]
  },
  {
   "cell_type": "code",
   "execution_count": 28,
   "metadata": {},
   "outputs": [
    {
     "name": "stdout",
     "output_type": "stream",
     "text": [
      "Without pca 0.9470870627956459\n",
      "With pca 0.8996627671698025\n"
     ]
    }
   ],
   "source": [
    "nb = GaussianNB()\n",
    "# without pca\n",
    "nb.fit(X_train, y_train)\n",
    "ypred = nb.predict(X_test)\n",
    "print(\"Without pca\",f1_score(y_test, ypred, average='weighted'))\n",
    "nb.fit(X_trainp, y_train)\n",
    "ypredp = nb.predict(X_testp)\n",
    "print(\"With pca\",f1_score(y_test, ypredp, average='weighted'))"
   ]
  },
  {
   "cell_type": "code",
   "execution_count": 29,
   "metadata": {},
   "outputs": [
    {
     "name": "stdout",
     "output_type": "stream",
     "text": [
      "With 0.8443374522699525\n",
      "Without 0.8443374522699525\n"
     ]
    }
   ],
   "source": [
    "kmeans = KMeans(n_clusters = 2, random_state = 0).fit(pca.fit_transform(X))\n",
    "print(\"With\",f1_score(y, kmeans.labels_, average='weighted'))\n",
    "kmeans = KMeans(n_clusters = 2, random_state = 0).fit(X)\n",
    "print(\"Without\",f1_score(y, kmeans.labels_, average='weighted'))"
   ]
  },
  {
   "cell_type": "code",
   "execution_count": 30,
   "metadata": {},
   "outputs": [
    {
     "data": {
      "text/plain": [
       "0.7483522251447848"
      ]
     },
     "execution_count": 30,
     "metadata": {},
     "output_type": "execute_result"
    }
   ],
   "source": [
    "clust = AgglomerativeClustering(n_clusters = 2).fit(X)\n",
    "f1_score(y, clust.labels_, average='weighted')"
   ]
  },
  {
   "cell_type": "code",
   "execution_count": 31,
   "metadata": {},
   "outputs": [
    {
     "name": "stdout",
     "output_type": "stream",
     "text": [
      "Without pca 0.9380859556298152\n",
      "With pca 0.9380859556298152\n"
     ]
    }
   ],
   "source": [
    "neigh = KNeighborsClassifier(n_neighbors = 5)\n",
    "# without pca\n",
    "neigh.fit(X_train, y_train)\n",
    "ypred = neigh.predict(X_test)\n",
    "print(\"Without pca\",f1_score(y_test, ypred, average='weighted'))\n",
    "# with pca\n",
    "neigh.fit(X_trainp, y_train)\n",
    "ypredp = neigh.predict(X_testp)\n",
    "print(\"With pca\",f1_score(y_test, ypredp, average='weighted'))"
   ]
  },
  {
   "cell_type": "code",
   "execution_count": 32,
   "metadata": {},
   "outputs": [
    {
     "name": "stdout",
     "output_type": "stream",
     "text": [
      "Without pca 0.9290184921763869\n",
      "With pca 0.8900134952766531\n"
     ]
    },
    {
     "name": "stderr",
     "output_type": "stream",
     "text": [
      "C:\\Users\\IPSITA\\Anaconda3\\lib\\site-packages\\sklearn\\neural_network\\multilayer_perceptron.py:566: ConvergenceWarning: Stochastic Optimizer: Maximum iterations (350) reached and the optimization hasn't converged yet.\n",
      "  % self.max_iter, ConvergenceWarning)\n"
     ]
    }
   ],
   "source": [
    "clf = MLPClassifier(solver='sgd', alpha=0.00001, hidden_layer_sizes=(5, 2), random_state=1, max_iter=350)\n",
    "# without pca\n",
    "clf.fit(X_train, y_train)\n",
    "ypred = clf.predict(X_test)\n",
    "print(\"Without pca\",f1_score(y_test, ypred, average='weighted'))\n",
    "# without pca\n",
    "clf.fit(X_trainp, y_train)\n",
    "ypredp = clf.predict(X_testp)\n",
    "print(\"With pca\",f1_score(y_test, ypredp, average='weighted'))"
   ]
  },
  {
   "cell_type": "code",
   "execution_count": 33,
   "metadata": {},
   "outputs": [
    {
     "name": "stdout",
     "output_type": "stream",
     "text": [
      "Without pca 0.9554882874504246\n",
      "With pca 0.9467638691322903\n"
     ]
    }
   ],
   "source": [
    "#SVM\n",
    "from sklearn.svm import SVC # \"Support Vector Classifier\" \n",
    "svm = SVC(kernel='linear') \n",
    "# without pca\n",
    "svm.fit(X_train, y_train) \n",
    "ypred = svm.predict(X_test)\n",
    "print(\"Without pca\",f1_score(y_test, ypred, average='weighted'))\n",
    "# with pca\n",
    "svm.fit(X_trainp, y_train) \n",
    "ypredp = svm.predict(X_testp)\n",
    "print(\"With pca\",f1_score(y_test, ypredp, average='weighted'))"
   ]
  },
  {
   "cell_type": "code",
   "execution_count": 34,
   "metadata": {},
   "outputs": [
    {
     "name": "stdout",
     "output_type": "stream",
     "text": [
      "Without pca 0.9554882874504246\n",
      "With pca 0.9467638691322903\n"
     ]
    }
   ],
   "source": [
    "# logistic regression\n",
    "from sklearn.linear_model import LogisticRegression\n",
    "lr = LogisticRegression(random_state=0, solver='liblinear')\n",
    "# without pca\n",
    "lr.fit(X_train, y_train)\n",
    "ypred=lr.predict(X_test)\n",
    "print(\"Without pca\",f1_score(y_test, ypred, average='weighted'))\n",
    "# with pca\n",
    "lr.fit(X_trainp, y_train)\n",
    "ypredp=lr.predict(X_testp)\n",
    "print(\"With pca\",f1_score(y_test, ypredp, average='weighted'))"
   ]
  },
  {
   "cell_type": "code",
   "execution_count": 35,
   "metadata": {},
   "outputs": [],
   "source": [
    "# random forest\n",
    "from sklearn.ensemble import RandomForestRegressor \n",
    "rf = RandomForestRegressor(n_estimators = 100, random_state = 0) \n",
    "# without pca\n",
    "rf.fit(X_train, y_train)\n",
    "ypred=rf.predict(X_test)\n",
    "#print(\"Without pca\",f1_score(y_test, ypred, average='weighted'))\n",
    "# with pca\n",
    "rf.fit(X_trainp,y_train)\n",
    "ypredp=rf.predict(X_testp)\n",
    "#print(\"Without pca\",f1_score(y_test, ypredp, average='weighted'))"
   ]
  },
  {
   "cell_type": "code",
   "execution_count": 36,
   "metadata": {},
   "outputs": [
    {
     "name": "stdout",
     "output_type": "stream",
     "text": [
      "Without pca 0.9467638691322903\n",
      "With pca 0.8941741255912918\n"
     ]
    }
   ],
   "source": [
    "# decision tree\n",
    "from sklearn import tree\n",
    "dt = tree.DecisionTreeClassifier()\n",
    "# without pca\n",
    "dt.fit(X_train, y_train)\n",
    "ypred=dt.predict(X_test)\n",
    "print(\"Without pca\",f1_score(y_test, ypred, average='weighted'))\n",
    "# with pca\n",
    "dt.fit(X_trainp,y_train)\n",
    "ypredp=dt.predict(X_testp)\n",
    "print(\"With pca\",f1_score(y_test, ypredp, average='weighted'))"
   ]
  },
  {
   "cell_type": "code",
   "execution_count": 37,
   "metadata": {},
   "outputs": [
    {
     "data": {
      "text/plain": [
       "'# Bayesian Network\\nfrom pomegranate import *\\nmodel = BayesianNetwork.from_samples(X_train, algorithm=\\'exact\\')\\n# without pca\\nmodel.fit(X_train)\\nypred=model.predict(X_test)\\nprint(\"Without pca\",f1_score(y_test, ypred, average=\\'weighted\\'))\\n# with pca\\nmodel.fit(X_trainp)\\nypredp=model.predict(X_testp)\\nprint(\"With pca\",f1_score(y_test, ypredp, average=\\'weighted\\'))'"
      ]
     },
     "execution_count": 37,
     "metadata": {},
     "output_type": "execute_result"
    }
   ],
   "source": [
    "'''# Bayesian Network\n",
    "from pomegranate import *\n",
    "model = BayesianNetwork.from_samples(X_train, algorithm='exact')\n",
    "# without pca\n",
    "model.fit(X_train)\n",
    "ypred=model.predict(X_test)\n",
    "print(\"Without pca\",f1_score(y_test, ypred, average='weighted'))\n",
    "# with pca\n",
    "model.fit(X_trainp)\n",
    "ypredp=model.predict(X_testp)\n",
    "print(\"With pca\",f1_score(y_test, ypredp, average='weighted'))'''"
   ]
  },
  {
   "cell_type": "code",
   "execution_count": 38,
   "metadata": {},
   "outputs": [
    {
     "name": "stdout",
     "output_type": "stream",
     "text": [
      "Without pca 0.9467638691322903\n",
      "With pca 0.9380859556298152\n"
     ]
    }
   ],
   "source": [
    "# adaboost\n",
    "from sklearn.ensemble import AdaBoostClassifier\n",
    "ad = AdaBoostClassifier(n_estimators=100)\n",
    "# without pca\n",
    "ad.fit(X_train, y_train)\n",
    "ypred=ad.predict(X_test)\n",
    "print(\"Without pca\",f1_score(y_test, ypred, average='weighted'))\n",
    "# with pca\n",
    "ad.fit(X_trainp,y_train)\n",
    "ypredp=ad.predict(X_testp)\n",
    "print(\"With pca\",f1_score(y_test, ypredp, average='weighted'))"
   ]
  },
  {
   "cell_type": "code",
   "execution_count": 39,
   "metadata": {},
   "outputs": [
    {
     "name": "stdout",
     "output_type": "stream",
     "text": [
      "Without pca 0.9554882874504246\n",
      "With pca 0.956244993396696\n"
     ]
    }
   ],
   "source": [
    "# gradient boosting\n",
    "from sklearn.ensemble import GradientBoostingClassifier\n",
    "gb = GradientBoostingClassifier(n_estimators=100, learning_rate=1.0,max_depth=1, random_state=0)\n",
    "# without pca\n",
    "gb.fit(X_train, y_train)\n",
    "ypred=gb.predict(X_test)\n",
    "print(\"Without pca\",f1_score(y_test, ypred, average='weighted'))\n",
    "# with pca\n",
    "gb.fit(X_trainp,y_train)\n",
    "ypredp=gb.predict(X_testp)\n",
    "print(\"With pca\",f1_score(y_test, ypredp, average='weighted'))"
   ]
  },
  {
   "cell_type": "markdown",
   "metadata": {},
   "source": [
    "Rotation Forest"
   ]
  },
  {
   "cell_type": "code",
   "execution_count": 40,
   "metadata": {},
   "outputs": [],
   "source": [
    "import numpy as np\n",
    "from sklearn.tree import DecisionTreeClassifier\n",
    "from sklearn.tree._tree import DTYPE\n",
    "from sklearn.ensemble.forest import ForestClassifier\n",
    "from sklearn.utils import resample, gen_batches, check_random_state\n",
    "from sklearn.decomposition import PCA"
   ]
  },
  {
   "cell_type": "code",
   "execution_count": 41,
   "metadata": {},
   "outputs": [],
   "source": [
    "def random_feature_subsets(array, batch_size, random_state=1234):\n",
    "    \"\"\" Generate K subsets of the features in X \"\"\"\n",
    "    random_state = check_random_state(random_state)\n",
    "    features = list(range(array.shape[1]))\n",
    "    random_state.shuffle(features)\n",
    "    for batch in gen_batches(len(features), batch_size):\n",
    "        yield features[batch]"
   ]
  },
  {
   "cell_type": "code",
   "execution_count": 42,
   "metadata": {},
   "outputs": [],
   "source": [
    "class RotationTreeClassifier(DecisionTreeClassifier):\n",
    "    def __init__(self,\n",
    "                 n_features_per_subset=3,\n",
    "                 rotation_algo='pca',\n",
    "                 criterion=\"gini\",\n",
    "                 splitter=\"best\",\n",
    "                 max_depth=None,\n",
    "                 min_samples_split=2,\n",
    "                 min_samples_leaf=1,\n",
    "                 min_weight_fraction_leaf=0.,\n",
    "                 max_features=1.0,\n",
    "                 random_state=None,\n",
    "                 max_leaf_nodes=None,\n",
    "                 class_weight=None,\n",
    "                 presort=False):\n",
    "\n",
    "        self.n_features_per_subset = n_features_per_subset\n",
    "        self.rotation_algo = rotation_algo\n",
    "\n",
    "        super(RotationTreeClassifier, self).__init__(\n",
    "            criterion=criterion,\n",
    "            splitter=splitter,\n",
    "            max_depth=max_depth,\n",
    "            min_samples_split=min_samples_split,\n",
    "            min_samples_leaf=min_samples_leaf,\n",
    "            min_weight_fraction_leaf=min_weight_fraction_leaf,\n",
    "            max_features=max_features,\n",
    "            max_leaf_nodes=max_leaf_nodes,\n",
    "            class_weight=class_weight,\n",
    "            random_state=random_state,\n",
    "            presort=presort)\n"
   ]
  },
  {
   "cell_type": "code",
   "execution_count": 43,
   "metadata": {},
   "outputs": [],
   "source": [
    " def rotate(self, X):\n",
    "        if not hasattr(self, 'rotation_matrix'):\n",
    "            raise NotFittedError('The estimator has not been fitted')\n",
    "\n",
    "        return np.dot(X, self.rotation_matrix)\n"
   ]
  },
  {
   "cell_type": "code",
   "execution_count": 44,
   "metadata": {},
   "outputs": [],
   "source": [
    "def pca_algorithm(self):\n",
    "        \"\"\" Deterimine PCA algorithm to use. \"\"\"\n",
    "        if self.rotation_algo == 'randomized':\n",
    "            return PCA(svd_solver='randomized', random_state=self.random_state)\n",
    "        elif self.rotation_algo == 'pca':\n",
    "            return PCA()\n",
    "        else:\n",
    "            raise ValueError(\"`rotation_algo` must be either \"\n",
    "                             \"'pca' or 'randomized'.\")\n"
   ]
  },
  {
   "cell_type": "code",
   "execution_count": 45,
   "metadata": {},
   "outputs": [],
   "source": [
    "def _fit_rotation_matrix(self, X):\n",
    "        random_state = check_random_state(self.random_state)\n",
    "        n_samples, n_features = X.shape\n",
    "        self.rotation_matrix = np.zeros((n_features, n_features),\n",
    "                                        dtype=np.float32)\n",
    "        for i, subset in enumerate(\n",
    "                random_feature_subsets(X, self.n_features_per_subset,\n",
    "                                       random_state=self.random_state)):\n",
    "            # take a 75% bootstrap from the rows\n",
    "            x_sample = resample(X, n_samples=int(n_samples*0.75),\n",
    "                                random_state=10*i)\n",
    "            pca = self.pca_algorithm()\n",
    "            #print(x_sample[:, subset])\n",
    "            pca.fit(x_sample[:, subset])\n",
    "            self.rotation_matrix[np.ix_(subset, subset)] = pca.components_\n"
   ]
  },
  {
   "cell_type": "code",
   "execution_count": 46,
   "metadata": {},
   "outputs": [],
   "source": [
    "def fit(self, X, y, sample_weight=None, check_input=True):\n",
    "        self._fit_rotation_matrix(X)\n",
    "        super(RotationTreeClassifier, self).fit(self.rotate(X), y,\n",
    "                                                sample_weight, check_input)\n"
   ]
  },
  {
   "cell_type": "code",
   "execution_count": 47,
   "metadata": {},
   "outputs": [],
   "source": [
    "def predict_proba(self, X, check_input=True):\n",
    "        return  super(RotationTreeClassifier, self).predict_proba(self.rotate(X),\n",
    "                                                                  check_input)\n"
   ]
  },
  {
   "cell_type": "code",
   "execution_count": 48,
   "metadata": {},
   "outputs": [],
   "source": [
    "def predict(self, X, check_input=True):\n",
    "        return super(RotationTreeClassifier, self).predict(self.rotate(X),\n",
    "                                                           check_input)\n"
   ]
  },
  {
   "cell_type": "code",
   "execution_count": 49,
   "metadata": {},
   "outputs": [],
   "source": [
    "def apply(self, X, check_input=True):\n",
    "        return super(RotationTreeClassifier, self).apply(self.rotate(X),\n",
    "                                                         check_input)\n"
   ]
  },
  {
   "cell_type": "code",
   "execution_count": 50,
   "metadata": {},
   "outputs": [],
   "source": [
    "def decision_path(self, X, check_input=True):\n",
    "        return super(RotationTreeClassifier, self).decision_path(self.rotate(X),\n",
    "                                                                 check_input)\n"
   ]
  },
  {
   "cell_type": "code",
   "execution_count": 51,
   "metadata": {},
   "outputs": [],
   "source": [
    "class RotationForestClassifier(ForestClassifier):\n",
    "    def __init__(self,\n",
    "                 n_estimators=10,\n",
    "                 criterion=\"gini\",\n",
    "                 n_features_per_subset=3,\n",
    "                 rotation_algo='pca',\n",
    "                 max_depth=None,\n",
    "                 min_samples_split=2,\n",
    "                 min_samples_leaf=1,\n",
    "                 min_weight_fraction_leaf=0.,\n",
    "                 max_features=1.0,\n",
    "                 max_leaf_nodes=None,\n",
    "                 bootstrap=False,\n",
    "                 oob_score=False,\n",
    "                 n_jobs=1,\n",
    "                 random_state=None,\n",
    "                 verbose=0,\n",
    "                 warm_start=False,\n",
    "                 class_weight=None):\n",
    "        super(RotationForestClassifier, self).__init__(\n",
    "            base_estimator=RotationTreeClassifier(),\n",
    "            n_estimators=n_estimators,\n",
    "            estimator_params=(\"n_features_per_subset\", \"rotation_algo\",\n",
    "                              \"criterion\", \"max_depth\", \"min_samples_split\",\n",
    "                              \"min_samples_leaf\", \"min_weight_fraction_leaf\",\n",
    "                              \"max_features\", \"max_leaf_nodes\",\n",
    "                              \"random_state\"),\n",
    "            bootstrap=bootstrap,\n",
    "            oob_score=oob_score,\n",
    "            n_jobs=n_jobs,\n",
    "            random_state=random_state,\n",
    "            verbose=verbose,\n",
    "            warm_start=warm_start,\n",
    "            class_weight=class_weight)\n",
    "\n",
    "        self.n_features_per_subset = n_features_per_subset\n",
    "        self.rotation_algo = rotation_algo\n",
    "        self.criterion = criterion\n",
    "        self.max_depth = max_depth\n",
    "        self.min_samples_split = min_samples_split\n",
    "        self.min_samples_leaf = min_samples_leaf\n",
    "        self.min_weight_fraction_leaf = min_weight_fraction_leaf\n",
    "        self.max_features = max_features\n",
    "        self.max_leaf_nodes = max_leaf_nodes"
   ]
  },
  {
   "cell_type": "code",
   "execution_count": 54,
   "metadata": {},
   "outputs": [
    {
     "name": "stdout",
     "output_type": "stream",
     "text": [
      "Without pca 0.9557756825927252\n"
     ]
    }
   ],
   "source": [
    "# rotation forest\n",
    "rf = RotationTreeClassifier(n_features_per_subset=3)\n",
    "# without pca\n",
    "rf.fit(X_train.values, y_train)\n",
    "ypred = rf.predict(X_test)\n",
    "print(\"Without pca\",f1_score(y_test, ypred, average='weighted'))"
   ]
  },
  {
   "cell_type": "code",
   "execution_count": 56,
   "metadata": {},
   "outputs": [
    {
     "name": "stdout",
     "output_type": "stream",
     "text": [
      "Collecting ga\n",
      "  Downloading https://files.pythonhosted.org/packages/5c/7b/b9dee66b7ab2907829e1d6df2c59225a205fd970da67eeb26cf7732751e2/ga-0.1.1.dev.zip\n",
      "Building wheels for collected packages: ga\n",
      "  Building wheel for ga (setup.py): started\n",
      "  Building wheel for ga (setup.py): finished with status 'done'\n",
      "  Stored in directory: C:\\Users\\IPSITA\\AppData\\Local\\pip\\Cache\\wheels\\56\\ff\\65\\35d92ba6660c3514a2a85b085a85fdfb9ea7a8080166be2eeb\n",
      "Successfully built ga\n",
      "Installing collected packages: ga\n",
      "Successfully installed ga-0.1.1.dev0\n",
      "Note: you may need to restart the kernel to use updated packages.\n"
     ]
    }
   ],
   "source": [
    "pip install ga"
   ]
  },
  {
   "cell_type": "code",
   "execution_count": null,
   "metadata": {},
   "outputs": [],
   "source": []
  }
 ],
 "metadata": {
  "kernelspec": {
   "display_name": "Python 3",
   "language": "python",
   "name": "python3"
  },
  "language_info": {
   "codemirror_mode": {
    "name": "ipython",
    "version": 3
   },
   "file_extension": ".py",
   "mimetype": "text/x-python",
   "name": "python",
   "nbconvert_exporter": "python",
   "pygments_lexer": "ipython3",
   "version": "3.7.3"
  }
 },
 "nbformat": 4,
 "nbformat_minor": 4
}
